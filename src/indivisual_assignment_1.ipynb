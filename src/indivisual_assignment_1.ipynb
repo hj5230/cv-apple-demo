{
 "cells": [
  {
   "cell_type": "markdown",
   "metadata": {
    "id": "9DCUd2JF6D0-"
   },
   "source": [
    "# Individual Assignment\n",
    "\n",
    "This course uses Python as a programming language. Don't worry, you will not feel constricted!\n",
    "If you are not familiar with Python, or with programming in general, have a look at some [tutorials](https://wiki.python.org/moin/BeginnersGuide/NonProgrammers). To untangle your life, we suggets that you run this notebook using [Google Colab](https://colab.research.google.com). If you are not familiar with this environment, please have a look at a [tutorial](https://colab.research.google.com). However, you can always run this code locally, either as a notebook or copy the code into a plain script. You just have to make sure you can run python code and have the necessary dependencies installed.\n",
    "\n",
    "Feel free to play around with the code and all available functionality!\n",
    "\n",
    "\n",
    "## Dependency installation\n",
    "\n",
    "First we install the required external python packages. In this notebook we will make use of [OpenCV](https://github.com/opencv/opencv-python), so we install it using pip (the standard python dependency manager)."
   ]
  },
  {
   "cell_type": "code",
   "execution_count": 1,
   "metadata": {
    "id": "_sElMS165iGh"
   },
   "outputs": [
    {
     "name": "stdout",
     "output_type": "stream",
     "text": [
      "Requirement already satisfied: pip in /usr/local/python/3.12.1/lib/python3.12/site-packages (24.3.1)\n",
      "Collecting pip\n",
      "  Downloading pip-25.0.1-py3-none-any.whl.metadata (3.7 kB)\n",
      "Downloading pip-25.0.1-py3-none-any.whl (1.8 MB)\n",
      "\u001b[2K   \u001b[90m━━━━━━━━━━━━━━━━━━━━━━━━━━━━━━━━━━━━━━━━\u001b[0m \u001b[32m1.8/1.8 MB\u001b[0m \u001b[31m48.2 MB/s\u001b[0m eta \u001b[36m0:00:00\u001b[0m\n",
      "\u001b[?25hInstalling collected packages: pip\n",
      "  Attempting uninstall: pip\n",
      "    Found existing installation: pip 24.3.1\n",
      "    Uninstalling pip-24.3.1:\n",
      "      Successfully uninstalled pip-24.3.1\n",
      "Successfully installed pip-25.0.1\n",
      "Collecting opencv-python\n",
      "  Downloading opencv_python-4.11.0.86-cp37-abi3-manylinux_2_17_x86_64.manylinux2014_x86_64.whl.metadata (20 kB)\n",
      "Requirement already satisfied: numpy>=1.21.2 in /home/codespace/.local/lib/python3.12/site-packages (from opencv-python) (2.2.0)\n",
      "Downloading opencv_python-4.11.0.86-cp37-abi3-manylinux_2_17_x86_64.manylinux2014_x86_64.whl (63.0 MB)\n",
      "\u001b[2K   \u001b[90m━━━━━━━━━━━━━━━━━━━━━━━━━━━━━━━━━━━━━━━━\u001b[0m \u001b[32m63.0/63.0 MB\u001b[0m \u001b[31m64.9 MB/s\u001b[0m eta \u001b[36m0:00:00\u001b[0m:00:01\u001b[0m00:01\u001b[0m\n",
      "\u001b[?25hInstalling collected packages: opencv-python\n",
      "Successfully installed opencv-python-4.11.0.86\n"
     ]
    }
   ],
   "source": [
    "!pip install --upgrade pip\n",
    "!pip install opencv-python"
   ]
  },
  {
   "cell_type": "markdown",
   "metadata": {
    "id": "mFEfxKYb6tC2"
   },
   "source": [
    "## Main Section\n",
    "\n",
    "Now we can import the necessary packages into our python workspace. OpenCV provides the package cv2 which contains handy functionality to handle images and videos."
   ]
  },
  {
   "cell_type": "code",
   "execution_count": 2,
   "metadata": {
    "id": "yekRmvRK5aD9"
   },
   "outputs": [
    {
     "ename": "ImportError",
     "evalue": "libGL.so.1: cannot open shared object file: No such file or directory",
     "output_type": "error",
     "traceback": [
      "\u001b[0;31m---------------------------------------------------------------------------\u001b[0m",
      "\u001b[0;31mImportError\u001b[0m                               Traceback (most recent call last)",
      "Cell \u001b[0;32mIn[2], line 2\u001b[0m\n\u001b[1;32m      1\u001b[0m \u001b[38;5;28;01mimport\u001b[39;00m \u001b[38;5;21;01margparse\u001b[39;00m\n\u001b[0;32m----> 2\u001b[0m \u001b[38;5;28;01mimport\u001b[39;00m \u001b[38;5;21;01mcv2\u001b[39;00m\n\u001b[1;32m      3\u001b[0m \u001b[38;5;28;01mimport\u001b[39;00m \u001b[38;5;21;01msys\u001b[39;00m\n\u001b[1;32m      5\u001b[0m \u001b[38;5;28;01mfrom\u001b[39;00m \u001b[38;5;21;01mgoogle\u001b[39;00m\u001b[38;5;21;01m.\u001b[39;00m\u001b[38;5;21;01mcolab\u001b[39;00m\u001b[38;5;21;01m.\u001b[39;00m\u001b[38;5;21;01mpatches\u001b[39;00m \u001b[38;5;28;01mimport\u001b[39;00m cv2_imshow\n",
      "File \u001b[0;32m/usr/local/python/3.12.1/lib/python3.12/site-packages/cv2/__init__.py:181\u001b[0m\n\u001b[1;32m    176\u001b[0m             \u001b[38;5;28;01mif\u001b[39;00m DEBUG: \u001b[38;5;28mprint\u001b[39m(\u001b[38;5;124m\"\u001b[39m\u001b[38;5;124mExtra Python code for\u001b[39m\u001b[38;5;124m\"\u001b[39m, submodule, \u001b[38;5;124m\"\u001b[39m\u001b[38;5;124mis loaded\u001b[39m\u001b[38;5;124m\"\u001b[39m)\n\u001b[1;32m    178\u001b[0m     \u001b[38;5;28;01mif\u001b[39;00m DEBUG: \u001b[38;5;28mprint\u001b[39m(\u001b[38;5;124m'\u001b[39m\u001b[38;5;124mOpenCV loader: DONE\u001b[39m\u001b[38;5;124m'\u001b[39m)\n\u001b[0;32m--> 181\u001b[0m \u001b[43mbootstrap\u001b[49m\u001b[43m(\u001b[49m\u001b[43m)\u001b[49m\n",
      "File \u001b[0;32m/usr/local/python/3.12.1/lib/python3.12/site-packages/cv2/__init__.py:153\u001b[0m, in \u001b[0;36mbootstrap\u001b[0;34m()\u001b[0m\n\u001b[1;32m    149\u001b[0m \u001b[38;5;28;01mif\u001b[39;00m DEBUG: \u001b[38;5;28mprint\u001b[39m(\u001b[38;5;124m\"\u001b[39m\u001b[38;5;124mRelink everything from native cv2 module to cv2 package\u001b[39m\u001b[38;5;124m\"\u001b[39m)\n\u001b[1;32m    151\u001b[0m py_module \u001b[38;5;241m=\u001b[39m sys\u001b[38;5;241m.\u001b[39mmodules\u001b[38;5;241m.\u001b[39mpop(\u001b[38;5;124m\"\u001b[39m\u001b[38;5;124mcv2\u001b[39m\u001b[38;5;124m\"\u001b[39m)\n\u001b[0;32m--> 153\u001b[0m native_module \u001b[38;5;241m=\u001b[39m \u001b[43mimportlib\u001b[49m\u001b[38;5;241;43m.\u001b[39;49m\u001b[43mimport_module\u001b[49m\u001b[43m(\u001b[49m\u001b[38;5;124;43m\"\u001b[39;49m\u001b[38;5;124;43mcv2\u001b[39;49m\u001b[38;5;124;43m\"\u001b[39;49m\u001b[43m)\u001b[49m\n\u001b[1;32m    155\u001b[0m sys\u001b[38;5;241m.\u001b[39mmodules[\u001b[38;5;124m\"\u001b[39m\u001b[38;5;124mcv2\u001b[39m\u001b[38;5;124m\"\u001b[39m] \u001b[38;5;241m=\u001b[39m py_module\n\u001b[1;32m    156\u001b[0m \u001b[38;5;28msetattr\u001b[39m(py_module, \u001b[38;5;124m\"\u001b[39m\u001b[38;5;124m_native\u001b[39m\u001b[38;5;124m\"\u001b[39m, native_module)\n",
      "File \u001b[0;32m/usr/local/python/3.12.1/lib/python3.12/importlib/__init__.py:90\u001b[0m, in \u001b[0;36mimport_module\u001b[0;34m(name, package)\u001b[0m\n\u001b[1;32m     88\u001b[0m             \u001b[38;5;28;01mbreak\u001b[39;00m\n\u001b[1;32m     89\u001b[0m         level \u001b[38;5;241m+\u001b[39m\u001b[38;5;241m=\u001b[39m \u001b[38;5;241m1\u001b[39m\n\u001b[0;32m---> 90\u001b[0m \u001b[38;5;28;01mreturn\u001b[39;00m \u001b[43m_bootstrap\u001b[49m\u001b[38;5;241;43m.\u001b[39;49m\u001b[43m_gcd_import\u001b[49m\u001b[43m(\u001b[49m\u001b[43mname\u001b[49m\u001b[43m[\u001b[49m\u001b[43mlevel\u001b[49m\u001b[43m:\u001b[49m\u001b[43m]\u001b[49m\u001b[43m,\u001b[49m\u001b[43m \u001b[49m\u001b[43mpackage\u001b[49m\u001b[43m,\u001b[49m\u001b[43m \u001b[49m\u001b[43mlevel\u001b[49m\u001b[43m)\u001b[49m\n",
      "\u001b[0;31mImportError\u001b[0m: libGL.so.1: cannot open shared object file: No such file or directory"
     ]
    }
   ],
   "source": [
    "import argparse\n",
    "import cv2\n",
    "import sys\n",
    "\n",
    "from google.colab.patches import cv2_imshow"
   ]
  },
  {
   "cell_type": "markdown",
   "metadata": {
    "id": "2EVMg5gI7ayt"
   },
   "source": [
    "We define a couple of helper functions to check whether a frame is between two time points (in milliseconds)."
   ]
  },
  {
   "cell_type": "code",
   "execution_count": 3,
   "metadata": {
    "id": "6Xx2Z_WJ7NZ6"
   },
   "outputs": [],
   "source": [
    "def get_frame_time(cap) -> int:\n",
    "  return int(cap.get(cv2.CAP_PROP_POS_MSEC))\n",
    "\n",
    "def between(cap, lower: int, upper: int) -> bool:\n",
    "    return lower <= get_frame_time(cap) < upper"
   ]
  },
  {
   "cell_type": "markdown",
   "metadata": {
    "id": "ySC_H9RcGS8x"
   },
   "source": [
    "This next code block defines the actual functionality of the assignment (which you should implement!). Make sure to re-run the code block after each update you make, to ensure it takes effect when generatnig the video."
   ]
  },
  {
   "cell_type": "code",
   "execution_count": 4,
   "metadata": {
    "id": "yCnuMcu16DP-"
   },
   "outputs": [],
   "source": [
    "\"\"\"Skeleton code for python script to process a video using OpenCV package\n",
    "\n",
    ":copyright: (c) 2021, Joeri Nicolaes\n",
    ":license: BSD license\n",
    "\"\"\"\n",
    "\n",
    "def draw_dragons(frame):\n",
    "  \"\"\"Here be dragons.\n",
    "\n",
    "  This is a dummy function that does nothing and returns the frame.\n",
    "\n",
    "  You can use this structure to define other functions that carry out the\n",
    "  correct functionality as requested in the assignment.\n",
    "  \"\"\"\n",
    "  return frame\n",
    "\n",
    "\n",
    "\"\"\"\n",
    "  TODO: Define additional functions here with the requested functionality.\n",
    "\"\"\"\n",
    "\n",
    "\n",
    "def main(input_video_file: str, output_video_file: str) -> None:\n",
    "    # OpenCV video objects to work with\n",
    "    cap = cv2.VideoCapture(input_video_file)\n",
    "\n",
    "    if cap is None or not cap.isOpened():\n",
    "      raise RuntimeError('The file was not found or is not a proper video.')\n",
    "\n",
    "    fps = int(round(cap.get(5)))\n",
    "    frame_width = int(cap.get(3))\n",
    "    frame_height = int(cap.get(4))\n",
    "    fourcc = cv2.VideoWriter_fourcc(*'mp4v')        # saving output video as .mp4\n",
    "    out = cv2.VideoWriter(output_video_file, fourcc, fps, (frame_width, frame_height))\n",
    "\n",
    "    # while loop where the real work happens\n",
    "    while cap.isOpened():\n",
    "        ret, frame = cap.read()\n",
    "        if ret:\n",
    "            if cv2.waitKey(28) & 0xFF == ord('q'):\n",
    "                break\n",
    "            if between(cap, 0, 500):\n",
    "                # do something using OpenCV functions (skipped here so we simply write the input frame back to output)\n",
    "                frame = draw_dragons(frame)\n",
    "\n",
    "            \"\"\"\n",
    "              TODO: Call the defined functions with the functionality requested in the assignment.\n",
    "            \"\"\"\n",
    "\n",
    "            # write frame that you processed to output\n",
    "            out.write(frame)\n",
    "\n",
    "            # (optional) display the resulting frame\n",
    "            if get_frame_time(cap) == SHOW_FRAME_AT:\n",
    "              cv2_imshow(frame)\n",
    "\n",
    "            # Press Q on keyboard to  exit\n",
    "            if cv2.waitKey(25) & 0xFF == ord('q'):\n",
    "                break\n",
    "\n",
    "        # Break the loop\n",
    "        else:\n",
    "            break\n",
    "\n",
    "    # When everything done, release the video capture and writing object\n",
    "    cap.release()\n",
    "    out.release()\n",
    "    # Closes all the frames\n",
    "    cv2.destroyAllWindows()"
   ]
  },
  {
   "cell_type": "markdown",
   "metadata": {
    "id": "IdVORN0KBDPU"
   },
   "source": [
    "Now that all the functionality is defined, we need to apply it to the video that you have recorded. To do so, upload the video file using the upload functionality in the panel on the left. Then make sure the `INPUT_FILE_NAME` matches the name of the file that you have uploaded. Then you can run this cell."
   ]
  },
  {
   "cell_type": "code",
   "execution_count": 5,
   "metadata": {
    "id": "czSdKSyC67L1"
   },
   "outputs": [],
   "source": [
    "INPUT_FILE_NAME = 'my_video.mp4'\n",
    "OUTPUT_FILE_NAME = 'my_processed_video.mp4'\n",
    "\n",
    "SHOW_FRAME_AT = -1   # Set this number to visualise the corresponding frame\n",
    "\n",
    "main(INPUT_FILE_NAME, OUTPUT_FILE_NAME)"
   ]
  },
  {
   "cell_type": "markdown",
   "metadata": {
    "id": "uRt3OUq5B2sA"
   },
   "source": [
    "After generating the output video it should show up in the panel on the left, with the file you uploaded. Make sure to download this file, it will not be saved with the notebook!"
   ]
  }
 ],
 "metadata": {
  "colab": {
   "provenance": []
  },
  "kernelspec": {
   "display_name": "Python 3",
   "name": "python3"
  },
  "language_info": {
   "codemirror_mode": {
    "name": "ipython",
    "version": 3
   },
   "file_extension": ".py",
   "mimetype": "text/x-python",
   "name": "python",
   "nbconvert_exporter": "python",
   "pygments_lexer": "ipython3",
   "version": "3.12.1"
  }
 },
 "nbformat": 4,
 "nbformat_minor": 0
}
